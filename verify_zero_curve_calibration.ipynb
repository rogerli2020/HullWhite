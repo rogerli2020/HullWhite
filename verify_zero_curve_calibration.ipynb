{
 "cells": [
  {
   "cell_type": "markdown",
   "metadata": {},
   "source": [
    "### This nodebook is simply a sanity check to verify zero rates calibration by pricing a series of ZCB using the tree and checking the difference between the actual/theoretical price given by the ZCB curve."
   ]
  },
  {
   "cell_type": "code",
   "execution_count": null,
   "metadata": {},
   "outputs": [
    {
     "name": "stdout",
     "output_type": "stream",
     "text": [
      "Building tree...\n",
      "Calibrating the tree to zero curve...\n",
      "Tree built successfully.\n"
     ]
    },
    {
     "ename": "KeyboardInterrupt",
     "evalue": "",
     "output_type": "error",
     "traceback": [
      "\u001b[31m---------------------------------------------------------------------------\u001b[39m",
      "\u001b[31mKeyboardInterrupt\u001b[39m                         Traceback (most recent call last)",
      "\u001b[36mCell\u001b[39m\u001b[36m \u001b[39m\u001b[32mIn[2]\u001b[39m\u001b[32m, line 26\u001b[39m\n\u001b[32m     24\u001b[39m m = cur_layer.layer_id\n\u001b[32m     25\u001b[39m P = np.exp( -\u001b[32m1\u001b[39m * cur_layer.t * zcb_curve.get_zero_rate(cur_layer.t) )\n\u001b[32m---> \u001b[39m\u001b[32m26\u001b[39m P_tree = \u001b[43mzcb_pricer\u001b[49m\u001b[43m.\u001b[49m\u001b[43mprice\u001b[49m\u001b[43m(\u001b[49m\u001b[43mcur_layer\u001b[49m\u001b[43m.\u001b[49m\u001b[43mt\u001b[49m\u001b[43m,\u001b[49m\u001b[43m \u001b[49m\u001b[32;43m1\u001b[39;49m\u001b[43m)\u001b[49m\n\u001b[32m     27\u001b[39m closed_form_price.append(P)\n\u001b[32m     28\u001b[39m tree_price.append(P_tree)\n",
      "\u001b[36mFile \u001b[39m\u001b[32mc:\\Users\\rogli\\Desktop\\hullWhite\\HullWhiteTreeZCBPricer.py:39\u001b[39m, in \u001b[36mHullWhiteTreeZCBPricer.price\u001b[39m\u001b[34m(self, time_to_maturity, notional)\u001b[39m\n\u001b[32m     37\u001b[39m cur_nodes = []\n\u001b[32m     38\u001b[39m \u001b[38;5;28;01mfor\u001b[39;00m (_m, j), node \u001b[38;5;129;01min\u001b[39;00m \u001b[38;5;28mself\u001b[39m.tree._node_lookup.items():\n\u001b[32m---> \u001b[39m\u001b[32m39\u001b[39m     \u001b[38;5;28;01mif\u001b[39;00m _m == m:\n\u001b[32m     40\u001b[39m         cur_nodes.append(node)\n\u001b[32m     41\u001b[39m \u001b[38;5;66;03m# next_cur_nodes = set()\u001b[39;00m\n",
      "\u001b[31mKeyboardInterrupt\u001b[39m: "
     ]
    }
   ],
   "source": [
    "import numpy as np\n",
    "from HullWhite import OneFactorHullWhiteModel\n",
    "from HullWhiteTrinomialTree import OneFactorHullWhiteTrinomialTree, Node\n",
    "from ZeroRateCurve import LinearZeroRateCurve, StepwiseZeroRateCurve\n",
    "from HullWhiteTreeZCBPricer import HullWhiteTreeZCBPricer\n",
    "\n",
    "payment_times = [0, 40]\n",
    "model = OneFactorHullWhiteModel(0.03, 0.005)\n",
    "# zcb_curve = LinearZeroRateCurve(0.0, 0.05, 30)\n",
    "zcb_curve = StepwiseZeroRateCurve()\n",
    "\n",
    "# set up and build tree\n",
    "tree = OneFactorHullWhiteTrinomialTree(model, payment_times, zcb_curve, 0.25)\n",
    "tree.build_tree(verbose=False)\n",
    "\n",
    "# set up pricer\n",
    "zcb_pricer = HullWhiteTreeZCBPricer(tree=tree)\n",
    "\n",
    "# loop\n",
    "cur_layer = tree.root_node.layer_attr\n",
    "closed_form_price = []\n",
    "tree_price = []\n",
    "while cur_layer:\n",
    "    m = cur_layer.layer_id\n",
    "    P = np.exp( -1 * cur_layer.t * zcb_curve.get_zero_rate(cur_layer.t) )\n",
    "    P_tree = zcb_pricer.price(cur_layer.t, 1)\n",
    "    closed_form_price.append(P)\n",
    "    tree_price.append(P_tree)\n",
    "\n",
    "    cur_layer = cur_layer.next_layer_attr\n",
    "\n",
    "diff = np.array(tree_price) - np.array(closed_form_price)\n",
    "diff = diff ** 2\n",
    "diff = list([round(float(se), 8) for se in diff])\n",
    "diff"
   ]
  }
 ],
 "metadata": {
  "kernelspec": {
   "display_name": "Python 3",
   "language": "python",
   "name": "python3"
  },
  "language_info": {
   "codemirror_mode": {
    "name": "ipython",
    "version": 3
   },
   "file_extension": ".py",
   "mimetype": "text/x-python",
   "name": "python",
   "nbconvert_exporter": "python",
   "pygments_lexer": "ipython3",
   "version": "3.13.3"
  }
 },
 "nbformat": 4,
 "nbformat_minor": 2
}
